{
  "nbformat": 4,
  "nbformat_minor": 0,
  "metadata": {
    "colab": {
      "provenance": [],
      "authorship_tag": "ABX9TyOhJO12n5egsBrU2WeWf4wq",
      "include_colab_link": true
    },
    "kernelspec": {
      "name": "python3",
      "display_name": "Python 3"
    },
    "language_info": {
      "name": "python"
    }
  },
  "cells": [
    {
      "cell_type": "markdown",
      "metadata": {
        "id": "view-in-github",
        "colab_type": "text"
      },
      "source": [
        "<a href=\"https://colab.research.google.com/github/rgilyard/preprocessing-techniques/blob/main/test_github_notebook.ipynb\" target=\"_parent\"><img src=\"https://colab.research.google.com/assets/colab-badge.svg\" alt=\"Open In Colab\"/></a>"
      ]
    },
    {
      "cell_type": "markdown",
      "source": [
        "# This is my test\n",
        "Trying to get colab on github and use google drive to store the data"
      ],
      "metadata": {
        "id": "LcX2-RKTDEUT"
      }
    },
    {
      "cell_type": "code",
      "execution_count": 1,
      "metadata": {
        "colab": {
          "base_uri": "https://localhost:8080/"
        },
        "id": "L9zhX9geC_sF",
        "outputId": "f84059db-26ba-4e49-f2d5-ef9ddc6f72a1"
      },
      "outputs": [
        {
          "output_type": "stream",
          "name": "stdout",
          "text": [
            "Mounted at /content/drive\n"
          ]
        }
      ],
      "source": [
        "from google.colab import drive\n",
        "drive.mount('/content/drive')"
      ]
    },
    {
      "cell_type": "code",
      "source": [
        "import os\n",
        "folder_path = \"/content/drive/My Drive/New COMP 541 Group Project/medical_notes/\"\n",
        "for filename in os.listdir(folder_path):\n",
        "    if filename.endswith(\".txt\"):\n",
        "        print(filename + ', ', end='')\n",
        "        # with open(os.path.join(folder_path, filename), \"r\") as f:\n",
        "        #     # Read the first line of the file\n",
        "        #     first_line = f.readline().strip()\n",
        "        #     if first_line:\n",
        "        #         # Split the first line into words and print the first word\n",
        "        #         first_word = first_line.split()[0]\n",
        "        #         print(first_word)"
      ],
      "metadata": {
        "colab": {
          "base_uri": "https://localhost:8080/"
        },
        "id": "Ait8HOpcIHMe",
        "outputId": "afb0a7ea-baab-4c2f-bcc4-7368de17faf5"
      },
      "execution_count": 7,
      "outputs": [
        {
          "output_type": "stream",
          "name": "stdout",
          "text": [
            "1231.txt, 1342.txt, 1301.txt, 1930.txt, 1499.txt, 1373.txt, 1799.txt, 1703.txt, 1807.txt, 1808.txt, 1955.txt, 1134.txt, 1801.txt, 2183.txt, 1650.txt, 1996.txt, 1032.txt, 1259.txt, 1266.txt, 2096.txt, 1706.txt, 1617.txt, 1163.txt, 2081.txt, 1448.txt, 2176.txt, 2057.txt, 1407.txt, 1246.txt, 1957.txt, 1583.txt, 1720.txt, 2014.txt, 1001.txt, 2063.txt, 1078.txt, 1967.txt, 2050.txt, 1217.txt, 1327.txt, 1632.txt, 1279.txt, 1620.txt, 1468.txt, 1303.txt, 1174.txt, 1100.txt, 2028.txt, 1587.txt, 1040.txt, 2114.txt, 2166.txt, 1263.txt, 1402.txt, 1874.txt, 1562.txt, 1971.txt, 1657.txt, 2040.txt, 1613.txt, 1708.txt, 1128.txt, 1170.txt, 2079.txt, 2119.txt, 1760.txt, 1417.txt, 2118.txt, 1933.txt, 1742.txt, 2065.txt, 1991.txt, 2069.txt, 1199.txt, 2194.txt, 1237.txt, 1597.txt, 1516.txt, 2098.txt, 1161.txt, 1213.txt, 1926.txt, 1165.txt, 1485.txt, 1052.txt, 1378.txt, 1167.txt, 1779.txt, 1712.txt, 1024.txt, 2191.txt, 1045.txt, 2154.txt, 1596.txt, 1906.txt, 1622.txt, 1310.txt, 1950.txt, 1293.txt, 1456.txt, 1056.txt, 1951.txt, 1464.txt, 1533.txt, 1853.txt, 1896.txt, 1486.txt, 2147.txt, 1981.txt, 1978.txt, 1998.txt, 1051.txt, 1242.txt, 1322.txt, 1049.txt, 1080.txt, 2004.txt, 1949.txt, 1746.txt, 1426.txt, 1714.txt, 1074.txt, 1774.txt, 1225.txt, 1481.txt, 2193.txt, 1317.txt, 1490.txt, 1435.txt, 2054.txt, 2150.txt, 2095.txt, 1852.txt, 1890.txt, 1610.txt, 1344.txt, 1983.txt, 1271.txt, 1177.txt, 1423.txt, 1973.txt, 1904.txt, 1824.txt, 2078.txt, 1114.txt, 1557.txt, 1304.txt, 1671.txt, 1109.txt, 1917.txt, 2130.txt, 1095.txt, 1023.txt, 1910.txt, 1537.txt, 1696.txt, 1076.txt, 2112.txt, 1668.txt, 2043.txt, 1674.txt, 1315.txt, 2009.txt, 2200.txt, 1227.txt, 1828.txt, 1869.txt, 1992.txt, 1939.txt, 2170.txt, 2080.txt, 1519.txt, 2120.txt, 1932.txt, 1857.txt, 1082.txt, 1946.txt, 1129.txt, 1738.txt, 2192.txt, 1397.txt, 1886.txt, 1804.txt, 1401.txt, 2001.txt, 1545.txt, 1601.txt, 2023.txt, 2053.txt, 1190.txt, 1928.txt, 2088.txt, 1239.txt, 1381.txt, 1053.txt, 2199.txt, 1695.txt, 1264.txt, 1027.txt, 1827.txt, 1586.txt, 1085.txt, 1371.txt, 1400.txt, 1781.txt, 2167.txt, 1306.txt, 1404.txt, 1150.txt, 1879.txt, 1689.txt, 1261.txt, 1571.txt, 2027.txt, 1088.txt, 1368.txt, 1908.txt, 1825.txt, 1772.txt, 1453.txt, 1376.txt, 2132.txt, 1546.txt, 1028.txt, 1666.txt, 1759.txt, 1988.txt, 1614.txt, 1355.txt, 1727.txt, 1299.txt, 1235.txt, 1455.txt, 2008.txt, 1710.txt, 2190.txt, 1477.txt, 1605.txt, 1780.txt, 2128.txt, 1664.txt, 1822.txt, 1982.txt, 2094.txt, 2139.txt, 1655.txt, 1725.txt, 1118.txt, 2034.txt, 1208.txt, 1154.txt, 1716.txt, 1461.txt, 1649.txt, 1740.txt, 1152.txt, 2090.txt, 1569.txt, 1119.txt, 1630.txt, 1663.txt, 1410.txt, 1552.txt, 1584.txt, 1006.txt, 1701.txt, 1658.txt, 1116.txt, 1124.txt, 1837.txt, 1365.txt, 1958.txt, 1962.txt, 1357.txt, 2196.txt, 1073.txt, 1079.txt, 1815.txt, 1726.txt, 2055.txt, 1855.txt, 1437.txt, 1022.txt, 1346.txt, 1805.txt, 1993.txt, 1629.txt, 1733.txt, 1619.txt, 1975.txt, 1471.txt, 1316.txt, 2102.txt, 1593.txt, 1018.txt, 2060.txt, 2021.txt, 2125.txt, 1115.txt, 1839.txt, 1594.txt, 1766.txt, 2109.txt, 1388.txt, 2022.txt, 1730.txt, 1065.txt, 1883.txt, 1923.txt, 1513.txt, 1294.txt, 1875.txt, 1661.txt, 1440.txt, 2117.txt, 1652.txt, 1940.txt, 1187.txt, 1826.txt, 1436.txt, 1419.txt, 1379.txt, 2007.txt, 1204.txt, 1718.txt, 1340.txt, 1520.txt, 2103.txt, 1142.txt, 1878.txt, 1659.txt, 1002.txt, 2133.txt, 1623.txt, 1858.txt, 1332.txt, 1169.txt, 2223.txt, 1008.txt, 1020.txt, 1441.txt, 1202.txt, 1334.txt, 1298.txt, 1207.txt, 1894.txt, 1515.txt, 1405.txt, 1290.txt, 1522.txt, 1688.txt, 2202.txt, 1895.txt, 1573.txt, 1072.txt, 1647.txt, 1265.txt, 1960.txt, 1508.txt, 1057.txt, 1627.txt, 1626.txt, 1314.txt, 1693.txt, 2010.txt, 1489.txt, 1642.txt, 1735.txt, 1551.txt, 2187.txt, 1541.txt, 1634.txt, 1019.txt, 2201.txt, 1965.txt, 2158.txt, 1037.txt, 1389.txt, 1108.txt, 2146.txt, 1829.txt, 1216.txt, 1099.txt, 2067.txt, 1256.txt, 1058.txt, 1295.txt, 1289.txt, 1473.txt, 1038.txt, 1126.txt, 1470.txt, 1765.txt, 2160.txt, 1250.txt, 1694.txt, 1270.txt, 1141.txt, 1612.txt, 1501.txt, 1457.txt, 2121.txt, 1615.txt, 1375.txt, 1624.txt, 1818.txt, 1050.txt, 2179.txt, 2135.txt, 1026.txt, 1681.txt, 1768.txt, 1937.txt, 1633.txt, 1277.txt, 1621.txt, 1899.txt, 1954.txt, 1146.txt, 1859.txt, 1067.txt, 2087.txt, 1518.txt, 1338.txt, 1377.txt, 1335.txt, 1016.txt, 2195.txt, 1206.txt, 1284.txt, 1509.txt, 1425.txt, 1840.txt, 1535.txt, 1212.txt, 1336.txt, 1280.txt, 1653.txt, 1665.txt, 1577.txt, 1521.txt, 1832.txt, 1984.txt, 2137.txt, 1245.txt, 1758.txt, 1503.txt, 1635.txt, 1948.txt, 1232.txt, 1139.txt, 1367.txt, 2214.txt, 1044.txt, 1136.txt, 1604.txt, 1433.txt, 1616.txt, 1555.txt, 1979.txt, 1729.txt, 1506.txt, 2227.txt, 1811.txt, 1392.txt, 1385.txt, 1273.txt, 2225.txt, 1430.txt, 1432.txt, 1816.txt, 1092.txt, 1722.txt, 2015.txt, 1300.txt, 1155.txt, 1382.txt, 1968.txt, 1121.txt, 2025.txt, 1709.txt, 1297.txt, 1466.txt, 2233.txt, 1450.txt, 2219.txt, 1739.txt, 2134.txt, 1186.txt, 1814.txt, 1189.txt, 1445.txt, 1282.txt, 2152.txt, 1848.txt, 1372.txt, 1398.txt, 1690.txt, 1854.txt, 1476.txt, 1176.txt, 1532.txt, 1185.txt, 1964.txt, 2182.txt, 2075.txt, 1969.txt, 1636.txt, 1086.txt, 1034.txt, 1104.txt, 1778.txt, 1354.txt, 1581.txt, 2204.txt, 1797.txt, 1691.txt, 1595.txt, 1526.txt, 2070.txt, 1676.txt, 1361.txt, 2224.txt, 1420.txt, 1527.txt, 1777.txt, 1275.txt, 1590.txt, 1474.txt, 2221.txt, 1861.txt, 1233.txt, 1281.txt, 2042.txt, 1098.txt, 1386.txt, 1427.txt, 2232.txt, 1576.txt, 2086.txt, 1025.txt, 1976.txt, 1021.txt, 1802.txt, 1320.txt, 2036.txt, 2181.txt, 1329.txt, 1031.txt, 1472.txt, 1059.txt, 1794.txt, 1230.txt, 1180.txt, 1717.txt, 1369.txt, 1877.txt, 1897.txt, 1307.txt, 1422.txt, 1834.txt, 1130.txt, 2116.txt, 1482.txt, 1987.txt, 1598.txt, 1646.txt, 1144.txt, 1845.txt, 1963.txt, 1724.txt, 1505.txt, 2018.txt, 1359.txt, 1548.txt, 1411.txt, 2024.txt, 1313.txt, 2124.txt, 1662.txt, 1257.txt, 1069.txt, 1887.txt, 2174.txt, 1269.txt, 1683.txt, 1175.txt, 1387.txt, 2097.txt, 2157.txt, 1039.txt, 1380.txt, 1867.txt, 1140.txt, 1319.txt, 1856.txt, 2148.txt, 2084.txt, 1699.txt, 2005.txt, 2123.txt, 1278.txt, 1494.txt, 2082.txt, 1792.txt, 1173.txt, 2100.txt, 1900.txt, 1935.txt, 1566.txt, 1966.txt, 1713.txt, 1787.txt, 1755.txt, 1046.txt, 1582.txt, 2141.txt, 1592.txt, 1132.txt, 2033.txt, 1938.txt, 1531.txt, 1553.txt, 2231.txt, 1881.txt, 1093.txt, 1507.txt, 1685.txt, 1745.txt, 1864.txt, 2026.txt, 1994.txt, 1608.txt, 1812.txt, 2059.txt, 1267.txt, 1160.txt, 1162.txt, 1349.txt, 2159.txt, 1283.txt, 2175.txt, 1196.txt, 1337.txt, 1889.txt, 1913.txt, 1339.txt, 1434.txt, 1352.txt, 2127.txt, 1054.txt, 1524.txt, 1325.txt, 1287.txt, 1823.txt, 1399.txt, 1438.txt, 1952.txt, 1424.txt, 2129.txt, 1251.txt, 1728.txt, 1403.txt, 1654.txt, 1749.txt, 1556.txt, 1029.txt, 1625.txt, 2077.txt, 1687.txt, 1209.txt, 1782.txt, 1396.txt, 1390.txt, 1309.txt, 1013.txt, 1064.txt, 1462.txt, 1111.txt, 2203.txt, 1041.txt, 1475.txt, 1995.txt, 2207.txt, 1844.txt, 1711.txt, 1600.txt, 1559.txt, 1429.txt, 1929.txt, 1919.txt, 1707.txt, 2230.txt, 1094.txt, 1677.txt, 2164.txt, 2131.txt, 1210.txt, 1414.txt, 2169.txt, 2122.txt, 1572.txt, 1484.txt, 1831.txt, 1220.txt, 1675.txt, 1667.txt, 2068.txt, 1568.txt, 1364.txt, 1504.txt, 2107.txt, 1005.txt, 1972.txt, 2099.txt, 1172.txt, 1943.txt, 1651.txt, 1841.txt, 1785.txt, 2153.txt, 1698.txt, 1530.txt, 1090.txt, 1243.txt, 1048.txt, 2189.txt, 2185.txt, 1491.txt, 1192.txt, 2006.txt, 1540.txt, 1449.txt, 1842.txt, 1561.txt, 2215.txt, 1880.txt, 1408.txt, 2188.txt, 2172.txt, 1786.txt, 1795.txt, 1911.txt, 1460.txt, 1444.txt, 2056.txt, 1224.txt, 1120.txt, 1638.txt, 1406.txt, 1117.txt, 1560.txt, 1892.txt, 2019.txt, 1914.txt, 2072.txt, 1350.txt, 1682.txt, 2017.txt, 1353.txt, 2211.txt, 1105.txt, 2091.txt, 1447.txt, 1830.txt, 1200.txt, 1868.txt, 2180.txt, 1542.txt, 2045.txt, 1847.txt, 1374.txt, 2062.txt, 1893.txt, 1101.txt, 1240.txt, 1383.txt, 1323.txt, 1488.txt, 1810.txt, 1502.txt, 2071.txt, 1143.txt, 1010.txt, 2052.txt, 1004.txt, 1244.txt, 1736.txt, 1558.txt, 1901.txt, 2177.txt, 1014.txt, 1496.txt, 1442.txt, 1511.txt, 1974.txt, 1238.txt, 1578.txt, 1849.txt, 1942.txt, 2145.txt, 1138.txt, 1047.txt, 1660.txt, 1492.txt, 1884.txt, 1980.txt, 1927.txt, 1137.txt, 1579.txt, 1181.txt, 1640.txt, 1291.txt, 1226.txt, 2020.txt, 2229.txt, 1589.txt, 1343.txt, 1483.txt, 2237.txt, 1413.txt, 1762.txt, 1554.txt, 2047.txt, 1272.txt, 1195.txt, 1672.txt, 1791.txt, 1789.txt, 1479.txt, 1211.txt, 1347.txt, 1903.txt, 1125.txt, 2003.txt, 1171.txt, 1145.txt, 1469.txt, 1748.txt, 1680.txt, 1813.txt, 1312.txt, 1205.txt, 1203.txt, 1236.txt, 1771.txt, 1007.txt, 2029.txt, 2151.txt, 2011.txt, 1764.txt, 2235.txt, 1618.txt, 1970.txt, 1761.txt, 1083.txt, 2238.txt, 2093.txt, 1268.txt, 1944.txt, 1062.txt, 1871.txt, 1221.txt, 1956.txt, 1602.txt, 1151.txt, 1641.txt, 1063.txt, 1459.txt, 1645.txt, 1107.txt, 2048.txt, 1922.txt, 1934.txt, 1302.txt, 1656.txt, 1157.txt, 1003.txt, 1865.txt, 1977.txt, 1366.txt, 1106.txt, 1416.txt, 1517.txt, 1907.txt, 1110.txt, 2041.txt, 1370.txt, 1986.txt, 1947.txt, 1843.txt, 2044.txt, 1544.txt, 2239.txt, 1673.txt, 1918.txt, 1549.txt, 1793.txt, 1068.txt, 2032.txt, 1850.txt, 1458.txt, 2206.txt, 1607.txt, 1409.txt, 1931.txt, 2105.txt, 1498.txt, 1229.txt, 2037.txt, 1639.txt, 2108.txt, 1999.txt, 1296.txt, 1214.txt, 1876.txt, 2213.txt, 1127.txt, 1418.txt, 2085.txt, 1328.txt, 2208.txt, 1415.txt, 1254.txt, 1547.txt, 1075.txt, 1915.txt, 1836.txt, 1363.txt, 1941.txt, 1443.txt, 1285.txt, 2076.txt, 1258.txt, 1358.txt, 2083.txt, 1585.txt, 2106.txt, 2210.txt, 1870.txt, 1497.txt, 1228.txt, 2149.txt, 1737.txt, 1514.txt, 2212.txt, 2218.txt, 1684.txt, 1077.txt, 1071.txt, 2101.txt, 2142.txt, 1500.txt, 1198.txt, 1898.txt, 1784.txt, 2110.txt, 1744.txt, 1223.txt, 1431.txt, 1467.txt, 1550.txt, 1704.txt, 1042.txt, 2000.txt, 1089.txt, 1156.txt, 1721.txt, 1985.txt, 2226.txt, 1135.txt, 1702.txt, 2012.txt, 1990.txt, 1081.txt, 1747.txt, 2161.txt, 1463.txt, 1989.txt, 1678.txt, 1480.txt, 1061.txt, 1493.txt, 1732.txt, 1428.txt, 2234.txt, 1912.txt, 1873.txt, 1757.txt, 1446.txt, 2030.txt, 1731.txt, 2143.txt, 1936.txt, 1838.txt, 1734.txt, 1529.txt, 2092.txt, 2111.txt, 1260.txt, 1803.txt, 2198.txt, 1113.txt, 1412.txt, 1882.txt, 1563.txt, 1891.txt, 1783.txt, 1741.txt, 1788.txt, 1084.txt, 2138.txt, 2236.txt, 1215.txt, 2031.txt, 2165.txt, 2051.txt, 1234.txt, 1773.txt, 1905.txt, 1606.txt, 1846.txt, 1536.txt, 1036.txt, 1997.txt, 1055.txt, 1276.txt, 1249.txt, 1421.txt, 2228.txt, 2074.txt, 1902.txt, 1452.txt, 1909.txt, 2209.txt, 1528.txt, 1885.txt, 1945.txt, 1331.txt, 1324.txt, 1821.txt, 1743.txt, 1800.txt, 1153.txt, 1465.txt, 1133.txt, 1345.txt, 1201.txt, 1103.txt, 2184.txt, 1248.txt, 1188.txt, 2049.txt, 1096.txt, 1241.txt, 1648.txt, 1147.txt, 2058.txt, 1330.txt, 1860.txt, 1863.txt, 1247.txt, 1394.txt, 1495.txt, 1769.txt, 1222.txt, 1158.txt, 1790.txt, 1311.txt, 2217.txt, 1756.txt, 2013.txt, 1439.txt, 2038.txt, 2156.txt, 1686.txt, 1599.txt, 1159.txt, 1015.txt, 1123.txt, 1833.txt, 1183.txt, 1043.txt, 1719.txt, 1920.txt, 1591.txt, 1197.txt, 1356.txt, 1925.txt, 1819.txt, 1451.txt, 1539.txt, 1179.txt, 1798.txt, 1631.txt, 1218.txt, 1274.txt, 1512.txt, 1362.txt, 1395.txt, 1393.txt, 1580.txt, 1148.txt, 1866.txt, 1700.txt, 2113.txt, 1091.txt, 1796.txt, 1862.txt, 1916.txt, 1637.txt, 1035.txt, 2046.txt, 1603.txt, 1252.txt, 1628.txt, 1321.txt, 2155.txt, 1131.txt, 1611.txt, 1286.txt, 1262.txt, 1588.txt, 1851.txt, 1565.txt, 1872.txt, 2197.txt, 1348.txt, 1835.txt, 1817.txt, 1341.txt, 1384.txt, 1820.txt, 1253.txt, 1193.txt, 1534.txt, 1454.txt, 1510.txt, 1525.txt, 1575.txt, 1961.txt, 1670.txt, 1570.txt, 1806.txt, 1776.txt, 1149.txt, 1326.txt, 2136.txt, 1723.txt, 1219.txt, 1809.txt, 1011.txt, 1763.txt, 2016.txt, 1644.txt, 1191.txt, 1775.txt, 1697.txt, 1753.txt, 2035.txt, 1543.txt, 1066.txt, 1308.txt, 1017.txt, 1767.txt, 1097.txt, 1305.txt, 1318.txt, 2066.txt, 1564.txt, 2163.txt, 1060.txt, 2073.txt, 2144.txt, 2126.txt, 1924.txt, 1168.txt, 1070.txt, 1178.txt, 2173.txt, 1288.txt, 1669.txt, 2104.txt, 1184.txt, 1538.txt, 1164.txt, 2216.txt, 1692.txt, 1752.txt, 1166.txt, 2220.txt, 1921.txt, 1012.txt, 2089.txt, 1030.txt, 2140.txt, 1888.txt, 1478.txt, 1087.txt, 2171.txt, 1643.txt, 1360.txt, 1523.txt, 2064.txt, 1351.txt, 2115.txt, 1751.txt, 1609.txt, 2061.txt, 1487.txt, 2205.txt, 2222.txt, 1750.txt, 2002.txt, 1102.txt, 1679.txt, 1959.txt, 1715.txt, 1574.txt, 1182.txt, 1953.txt, 1705.txt, 2168.txt, 2039.txt, 1033.txt, 1754.txt, 1255.txt, 1567.txt, 2186.txt, 1770.txt, 1333.txt, 2162.txt, 2178.txt, 1391.txt, 1009.txt, 1122.txt, 1112.txt, 1194.txt, 1292.txt, "
          ]
        }
      ]
    }
  ]
}